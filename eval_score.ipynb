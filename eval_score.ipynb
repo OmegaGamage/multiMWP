{
 "cells": [
  {
   "cell_type": "code",
   "execution_count": null,
   "metadata": {},
   "outputs": [],
   "source": [
    "import sys\n",
    "import codecs\n",
    "import os\n",
    "import math\n",
    "import operator\n",
    "import json\n",
    "from functools import reduce\n",
    "\n",
    "import numpy"
   ]
  },
  {
   "cell_type": "code",
   "execution_count": null,
   "metadata": {},
   "outputs": [],
   "source": [
    "def fetch_data(cand, ref):\n",
    "    \"\"\" Store each reference and candidate sentences as a list \"\"\"\n",
    "    candidate = open(cand).read().splitlines()\n",
    "    references = open(ref).read().splitlines()\n",
    "    return candidate, references\n"
   ]
  },
  {
   "cell_type": "code",
   "execution_count": null,
   "metadata": {},
   "outputs": [],
   "source": [
    "def brevity_penalty(c, r):\n",
    "    if c > r:\n",
    "        bp = 1\n",
    "    else:\n",
    "        bp = math.exp(1-(float(r)/c))\n",
    "    return bp\n"
   ]
  },
  {
   "cell_type": "code",
   "execution_count": null,
   "metadata": {},
   "outputs": [],
   "source": [
    "def best_length_match(ref_l, cand_l):\n",
    "    \"\"\"Find the closest length of reference to that of candidate\"\"\"\n",
    "    least_diff = abs(cand_l-ref_l[0])\n",
    "    best = ref_l[0]\n",
    "    for ref in ref_l:\n",
    "        if abs(cand_l-ref) < least_diff:\n",
    "            least_diff = abs(cand_l-ref)\n",
    "            best = ref\n",
    "    return best"
   ]
  },
  {
   "cell_type": "code",
   "execution_count": null,
   "metadata": {},
   "outputs": [],
   "source": [
    "def clip_count(cand_d, ref_ds):\n",
    "    \"\"\"Count the clip count for each ngram considering all references\"\"\"\n",
    "    count = 0\n",
    "    for m in cand_d.keys():\n",
    "        m_w = cand_d[m]\n",
    "        m_max = 0\n",
    "        for ref in ref_ds:\n",
    "            if m in ref:\n",
    "                m_max = max(m_max, ref[m])\n",
    "        m_w = min(m_w, m_max)\n",
    "        count += m_w\n",
    "    return count"
   ]
  },
  {
   "cell_type": "code",
   "execution_count": null,
   "metadata": {},
   "outputs": [],
   "source": [
    "def count_ngram(candidate, references, n):\n",
    "    clipped_count = 0\n",
    "    count = 0\n",
    "    r = 0\n",
    "    c = 0\n",
    "    for si in range(len(candidate)):\n",
    "        # Calculate precision for each sentence\n",
    "        ref_counts = []\n",
    "        ref_lengths = []\n",
    "        # Build dictionary of ngram counts\n",
    "        for reference in references:\n",
    "            ref_sentence = reference[si]\n",
    "            ngram_d = {}\n",
    "            words = ref_sentence.strip().split()\n",
    "            ref_lengths.append(len(words))\n",
    "            limits = len(words) - n + 1\n",
    "            # loop through the sentance consider the ngram length\n",
    "            for i in range(limits):\n",
    "                ngram = ' '.join(words[i:i+n]).lower()\n",
    "                if ngram in ngram_d.keys():\n",
    "                    ngram_d[ngram] += 1\n",
    "                else:\n",
    "                    ngram_d[ngram] = 1\n",
    "            ref_counts.append(ngram_d)\n",
    "        # candidate\n",
    "        cand_sentence = candidate[si]\n",
    "        cand_dict = {}\n",
    "        words = cand_sentence.strip().split()\n",
    "        limits = len(words) - n + 1\n",
    "        for i in range(0, limits):\n",
    "            ngram = ' '.join(words[i:i + n]).lower()\n",
    "            if ngram in cand_dict:\n",
    "                cand_dict[ngram] += 1\n",
    "            else:\n",
    "                cand_dict[ngram] = 1\n",
    "        clipped_count += clip_count(cand_dict, ref_counts)\n",
    "        count += limits\n",
    "        r += best_length_match(ref_lengths, len(words))\n",
    "        c += len(words)\n",
    "    if clipped_count == 0:\n",
    "        pr = 0\n",
    "    else:\n",
    "        pr = float(clipped_count) / count\n",
    "    bp = brevity_penalty(c, r)\n",
    "    return pr, bp\n"
   ]
  },
  {
   "cell_type": "code",
   "execution_count": null,
   "metadata": {},
   "outputs": [],
   "source": [
    "\n",
    "def geometric_mean(precisions):\n",
    "    return (reduce(operator.mul, precisions)) ** (1.0 / len(precisions))"
   ]
  },
  {
   "cell_type": "code",
   "execution_count": null,
   "metadata": {},
   "outputs": [],
   "source": [
    "def BLEU(candidate, references):\n",
    "    precisions = []\n",
    "    for i in range(1):\n",
    "        pr, bp = count_ngram(candidate, references, i+1)\n",
    "        precisions.append(pr)\n",
    "    bleu = geometric_mean(precisions) * bp\n",
    "    return bleu\n"
   ]
  },
  {
   "cell_type": "code",
   "execution_count": null,
   "metadata": {},
   "outputs": [],
   "source": []
  },
  {
   "cell_type": "code",
   "execution_count": null,
   "metadata": {},
   "outputs": [],
   "source": [
    "candidate_file = \"/home/omega/Office_Work/MWP/results/save/mt5-small|Sinhala|simple|8_1|0.5 seed|A-experiment/mt5-small|Sinhala|simple|8_1|0.5 seed|A-experiment-01/preds_all_eval.csv\"\n",
    "ref_file = \"/home/omega/Office_Work/MWP/results/data/si/A/0.5/val.target\"\n",
    "candidate, references = fetch_data(candidate_file, ref_file)\n",
    "bleu = BLEU(candidate, references)\n",
    "print(bleu)\n",
    "out = open('bleu_out_1.txt', 'w')\n",
    "out.write(str(bleu))\n",
    "out.close()"
   ]
  }
 ],
 "metadata": {
  "language_info": {
   "name": "python"
  },
  "orig_nbformat": 4
 },
 "nbformat": 4,
 "nbformat_minor": 2
}
